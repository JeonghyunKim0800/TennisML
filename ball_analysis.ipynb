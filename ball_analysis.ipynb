import pickle
import pandas as pd
import matplotlib.pyplot as plt

# read the pickle file
with open('../tracker_stubs/ball_detections.pkl', 'rb') as f:
    ball_positions = pickle.load(f)

    